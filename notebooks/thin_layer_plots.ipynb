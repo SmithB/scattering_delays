{
 "cells": [
  {
   "cell_type": "code",
   "execution_count": null,
   "id": "6d6cf58d",
   "metadata": {},
   "outputs": [],
   "source": [
    "import numpy as np\n",
    "import matplotlib.pyplot as plt\n",
    "import h5py\n",
    "import pointCollection as pc"
   ]
  },
  {
   "cell_type": "code",
   "execution_count": null,
   "id": "64fc7531",
   "metadata": {},
   "outputs": [],
   "source": [
    "%load_ext autoreload\n",
    "%autoreload 2"
   ]
  },
  {
   "cell_type": "code",
   "execution_count": null,
   "id": "bae163f3",
   "metadata": {},
   "outputs": [],
   "source": [
    "import scattering_deltas as sd\n",
    "dir(so)\n",
    "?sd.read_MC_results"
   ]
  },
  {
   "cell_type": "code",
   "execution_count": null,
   "id": "f9b25433",
   "metadata": {},
   "outputs": [],
   "source": [
    "%matplotlib notebook"
   ]
  },
  {
   "cell_type": "code",
   "execution_count": null,
   "id": "384dd858",
   "metadata": {},
   "outputs": [],
   "source": [
    "def limit_zmax(D, z_max=0):\n",
    "    # the 7th column is maximum depth\n",
    "    return D[D[:,7] < z_max ]"
   ]
  },
  {
   "cell_type": "code",
   "execution_count": null,
   "id": "633eb0a6",
   "metadata": {},
   "outputs": [],
   "source": [
    "D_MC={}\n",
    "for z_max in [0.5, 1, 1.5, 2, 3, 4, 6, 8, 12, 16, 24, 32, np.Inf]: \n",
    "    D_MC[z_max]=sd.read_MC_results('../../scattering_optics/mc_code/1_layer', \n",
    "                                   1.e7, filter_fn=limit_zmax, \n",
    "                                   filter_args={'z_max':z_max})\n",
    "    Di=D_MC[z_max]\n",
    "    Di['P']=Di['E']/(Di['lb']-Di['la'])\n"
   ]
  },
  {
   "cell_type": "code",
   "execution_count": null,
   "id": "a4dc08a2",
   "metadata": {},
   "outputs": [],
   "source": [
    "plt.figure()\n",
    "m={}\n",
    "τ=np.array(list(D_MC.keys()))\n",
    "for τi in τ[np.isfinite(τ)]: \n",
    "    Di=D_MC[τi]\n",
    "    Di['P']=Di['E']/(Di['lb']-Di['la'])\n",
    "    \n",
    "    els = (Di['E']>1.e-5) & (Di['P'] < 0.5*D_MC[np.Inf]['P'])\n",
    "    \n",
    "    hl=plt.semilogy(Di['lc'], Di['P'], label=str(τi))\n",
    "    plt.plot(Di['lc'][els], Di['P'][els],'.', color=hl[0].get_color())\n",
    "    \n",
    "    if np.sum(els) >= 9:\n",
    "        G=np.c_[np.ones(np.sum(els)), Di['lc'][els]]\n",
    "        m[τi]=np.linalg.inv(G.T.dot(G)).dot(G.T.dot(np.log(Di['P'][els])))\n",
    "        \n",
    "        G1=np.c_[np.ones(len(Di['lc'])), Di['lc']]\n",
    "        plt.semilogy(Di['lc'], np.exp(G1.dot(m[τi])),'k--')\n",
    "        \n",
    "Di=D_MC[np.Inf]\n",
    "els=(Di['lc']>200) & (Di['lc']<700)\n",
    "G1=Di['lc'][els]**(-3/2)\n",
    "m_inf=G1.dot(Di['P'][els])/(G1.T.dot(G1))\n",
    "plt.plot(Di['lc'], (Di['lc']**(-3/2)).dot(m_inf),'k')\n",
    "\n",
    "plt.gca().set_ylim([1e-6, 1])\n",
    "plt.legend()"
   ]
  },
  {
   "cell_type": "code",
   "execution_count": null,
   "id": "b874d9fc",
   "metadata": {},
   "outputs": [],
   "source": [
    "τ_layer=np.unique(np.array(list(m.keys())))\n",
    "k_layer=[m[τ][1] for τ in τ_layer]"
   ]
  },
  {
   "cell_type": "code",
   "execution_count": null,
   "id": "e5804ec5",
   "metadata": {},
   "outputs": [],
   "source": [
    "plt.figure();\n",
    "plt.plot(τ_layer, k_layer)"
   ]
  },
  {
   "cell_type": "code",
   "execution_count": null,
   "id": "f9c89664",
   "metadata": {},
   "outputs": [],
   "source": [
    "t_diverge=[]\n",
    "for τi in τ[np.isfinite(τ)]:\n",
    "    Di=D_MC[τi]\n",
    "    try:\n",
    "        t_diverge += [( τi, Di['lc'][Di['P'] > 0.995*D_MC[np.inf]['P']][-1] )]\n",
    "    except Exception:\n",
    "        pass\n",
    "\n",
    "t_diverge = np.r_[t_diverge]\n",
    "G=np.c_[np.ones_like(t_diverge[:,0]), t_diverge[:,0], t_diverge[:,0]**2]\n",
    "G=G[:,1:]\n",
    "good=np.all(np.isfinite(G), axis=1) & (t_diverge[:,0] < 3)\n",
    "G1=G[good,:]\n",
    "d=t_diverge[good,1]\n",
    "m_diverge=np.linalg.inv(G1.T.dot(G1)).dot(G1.T.dot(d))\n",
    "(t_diverge[:,1]-(G.dot(m_diverge)))/(t_diverge[:,1])"
   ]
  },
  {
   "cell_type": "code",
   "execution_count": null,
   "id": "8d3b2b0b",
   "metadata": {},
   "outputs": [],
   "source": [
    "t_diverge[:,1] - G.dot([2, 0])"
   ]
  },
  {
   "cell_type": "code",
   "execution_count": null,
   "id": "8cb88498",
   "metadata": {},
   "outputs": [],
   "source": [
    "plt.figure()\n",
    "plt.plot(t_diverge[:,0], t_diverge[:,1], marker='.')\n",
    "plt.plot(t_diverge[:,0], G.dot(m_diverge))\n",
    "plt.plot(t_diverge[:,0], G.dot([1, 1/3]))\n"
   ]
  },
  {
   "cell_type": "markdown",
   "id": "62b5e6ff",
   "metadata": {},
   "source": [
    "## Notes\n",
    "\n",
    "$$\n",
    "t_{diverge} \\approx 2 \\tau\n",
    "$$ \n",
    "is a good approximation of the profile for $\\tau < 3$.\n",
    "\n",
    "For $\\tau$ > 3, \n",
    "$$\n",
    "t_{diverge} \\approx \\tau + 1/3 \\tau^2\n",
    "$$\n",
    "\n",
    "The two approximations match for t=3"
   ]
  },
  {
   "cell_type": "markdown",
   "id": "8bf2cce2",
   "metadata": {},
   "source": [
    "## Estimating the log slope of the tail:\n",
    "\n",
    "This is needed to calculate the layer reflectance at infinite time:"
   ]
  },
  {
   "cell_type": "markdown",
   "id": "8097e5e4",
   "metadata": {},
   "source": [
    "### Polynomial fit to infinite medium:\n",
    "\n",
    "$$\n",
    "    P_\\infty  = A_\\infty t^{-3/2}\n",
    "$$\n",
    "so\n",
    "$$\n",
    "    log(P_\\infty) = log(A_\\infty) + -3/2 log(t)\n",
    "$$\n",
    "$$\n",
    "    \\frac{d}{dt} log(P_\\infty)  = -3/(2t)\n",
    "$$\n",
    "\n",
    "### semi-log fit to finite layer:\n",
    "\n",
    "$$\n",
    "    P_\\tau = A_\\tau exp(k_\\tau t)\n",
    "$$\n",
    "so\n",
    "$$\n",
    "    log(P_\\tau) = log(A_\\tau) + k_\\tau t\n",
    "$$\n",
    "$$\n",
    "    \\frac{d}{dt} log(P_\\tau) = k\n",
    "$$\n",
    "\n"
   ]
  },
  {
   "cell_type": "code",
   "execution_count": null,
   "id": "aa137367",
   "metadata": {},
   "outputs": [],
   "source": [
    "τ = np.array(list(m.keys()))\n",
    "τ=τ[np.isfinite(τ)]\n",
    "k = np.array([m[τi][1] for τi in τ])\n",
    "t_div_est = np.zeros_like(τ)\n",
    "t_div_est[τ<3] = 2*τ[τ<3]\n",
    "t_div_est[τ>=3] = τ[τ>=3]+1/3*τ[τ>=3]**2\n",
    "\n",
    "k_est0=np.zeros_like(t_div_est)\n",
    "for count, ti in enumerate(t_div_est):\n",
    "    ind=np.searchsorted(D_MC[np.Inf]['lc'], [0.9*ti, 1.1*ti])\n",
    "    k_est0[count] = np.diff(np.log(D_MC[np.Inf]['P'][ind]))/np.diff(D_MC[np.Inf]['lc'][ind])\n",
    "    \n",
    "k_est1 = -3/(2*t_div_est)\n",
    "\n",
    "plt.figure()\n",
    "plt.semilogx(τ, k,'.', label='fit to MC')\n",
    "plt.semilogx(τ, k_est0, label='tangent for infinite medium')\n",
    "plt.semilogx(τ, k_est1, label='tangent for finite medium')\n",
    "plt.legend()\n"
   ]
  },
  {
   "cell_type": "code",
   "execution_count": null,
   "id": "cf6f48c9",
   "metadata": {},
   "outputs": [],
   "source": [
    "plt.figure()\n",
    "plt.plot(τ,k_est0/k, label='semi-infinite')\n",
    "plt.plot(τ,k_est1/k, label='finite')\n",
    "plt.legend()\n",
    "plt.gca().set_ylabel('est k / k')"
   ]
  },
  {
   "cell_type": "markdown",
   "id": "0937d93e",
   "metadata": {},
   "source": [
    "###  Notes\n",
    "For small τ, we can measure the decay directly.  For τ>16, the decay rate estimated from the infinite medium is about 20% too large, which is probably fine.  We can use 20% +- 10% as our estimate for the slope and its error bound.\n",
    "\n",
    "The results are, then:\n",
    "\n",
    "  -For thin layers (τ < 6), calculate the reflectance from the available photon returns for bins where N>100.  \n",
    "  \n",
    "  -For medium layers ($6 \\le τ \\lt 16$), calculate the reflectance from the avaliable photons.  To check the approximations above, calculate:\n",
    "$$\n",
    "  P_{tail, est}(t) = P_{\\inf}(t_{div})exp(-\\frac{3}{2t_{div}} (t-t_{div}))\n",
    "$$\n",
    "so\n",
    "$$\n",
    "    E_{tail, est} = P_{\\inf}(t_{div})\\frac{2t_{div}}{3}\n",
    "$$\n",
    "\n",
    " -For thicker layers ($ τ \\gt 16$), integrate the $t^{-3/2}$ curve from the last time value in the calculated waveform, $t_{n}$, to $t_{div}$:\n",
    " $$\n",
    "     E_{tail,0}=-\\frac{1}{2} P_0(t_{div}^{-1/2} - t_{n}^{-1/2}) \n",
    " $$\n",
    " and add $E_{tail, est}$ from above.\n",
    " \n",
    " ### Testing:"
   ]
  },
  {
   "cell_type": "code",
   "execution_count": null,
   "id": "1a6b69a1",
   "metadata": {},
   "outputs": [],
   "source": [
    "# calculate P0, the power at time zero for the t^-3/2 curve:\n",
    "L_max=1900\n",
    "tail = (D_MC[np.Inf]['lc'] > 200) & (D_MC[np.Inf]['lc'] < L_max)\n",
    "G_tail = D_MC[np.Inf]['lc'][tail]**(-3/2)\n",
    "d_tail = D_MC[np.Inf]['P'][tail]\n",
    "P0_inf = 1/(G_tail.dot(G_tail))*(G_tail.T.dot(D_MC[np.Inf]['P'][tail]));"
   ]
  },
  {
   "cell_type": "code",
   "execution_count": null,
   "id": "a443d067",
   "metadata": {},
   "outputs": [],
   "source": [
    "plt.figure()\n",
    "plt.semilogy(D_MC[np.Inf]['lc'], D_MC[np.Inf]['P'],'.')\n",
    "plt.semilogy(D_MC[np.Inf]['lc'][tail], G_tail*P0_inf)"
   ]
  },
  {
   "cell_type": "markdown",
   "id": "30a7cf84",
   "metadata": {},
   "source": [
    "### Check that the total reflected energy is ~1 for an infinite medium with no absorption (right?)"
   ]
  },
  {
   "cell_type": "code",
   "execution_count": null,
   "id": "43a845fb",
   "metadata": {},
   "outputs": [],
   "source": [
    "R_inf = 2*P0_inf*D_MC[np.Inf]['lc'][-1]**(-1/2)\n",
    "R_inf+np.sum(D_MC[np.Inf]['E'])"
   ]
  },
  {
   "cell_type": "code",
   "execution_count": null,
   "id": "01f2bd02",
   "metadata": {},
   "outputs": [],
   "source": [
    "import scattering_optics as so"
   ]
  },
  {
   "cell_type": "code",
   "execution_count": null,
   "id": "b770c904",
   "metadata": {},
   "outputs": [],
   "source": [
    "D_MC=so.read_MC_results('../../scattering_optics/mc_code/1_layer', τ=1, N_MC=1.e7)"
   ]
  },
  {
   "cell_type": "code",
   "execution_count": null,
   "id": "b6eccf25",
   "metadata": {},
   "outputs": [],
   "source": [
    "D_MC['norm']"
   ]
  },
  {
   "cell_type": "code",
   "execution_count": null,
   "id": "96734409",
   "metadata": {},
   "outputs": [],
   "source": [
    "plt.figure()\n",
    "plt.semilogy(D_MC['lc'], D_MC['E']/D_MC['norm'],marker='.')\n",
    "plt.gca().set_xlim([0, 50])"
   ]
  },
  {
   "cell_type": "code",
   "execution_count": null,
   "id": "fe304e11",
   "metadata": {},
   "outputs": [],
   "source": []
  },
  {
   "cell_type": "code",
   "execution_count": null,
   "id": "0238ee6f",
   "metadata": {},
   "outputs": [],
   "source": []
  }
 ],
 "metadata": {
  "kernelspec": {
   "display_name": "Python 3 (ipykernel)",
   "language": "python",
   "name": "python3"
  },
  "language_info": {
   "codemirror_mode": {
    "name": "ipython",
    "version": 3
   },
   "file_extension": ".py",
   "mimetype": "text/x-python",
   "name": "python",
   "nbconvert_exporter": "python",
   "pygments_lexer": "ipython3",
   "version": "3.9.12"
  }
 },
 "nbformat": 4,
 "nbformat_minor": 5
}
