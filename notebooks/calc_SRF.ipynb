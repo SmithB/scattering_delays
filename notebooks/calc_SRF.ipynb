{
 "cells": [
  {
   "cell_type": "code",
   "execution_count": 1,
   "id": "ac6824f4",
   "metadata": {},
   "outputs": [],
   "source": [
    "import numpy as np\n",
    "import matplotlib.pyplot as plt\n",
    "import h5py\n",
    "import pointCollection as pc"
   ]
  },
  {
   "cell_type": "code",
   "execution_count": 2,
   "id": "f26b923f",
   "metadata": {},
   "outputs": [],
   "source": [
    "%matplotlib inline"
   ]
  },
  {
   "cell_type": "code",
   "execution_count": 3,
   "id": "b90c48bf",
   "metadata": {},
   "outputs": [],
   "source": [
    "import scattering_delays as sd"
   ]
  },
  {
   "cell_type": "code",
   "execution_count": 4,
   "id": "70f8477d",
   "metadata": {},
   "outputs": [],
   "source": [
    "%load_ext autoreload\n",
    "%autoreload 2"
   ]
  },
  {
   "cell_type": "code",
   "execution_count": 5,
   "id": "ad52934f",
   "metadata": {},
   "outputs": [],
   "source": [
    "def gaussian(t, μ, σ):\n",
    "    return 1/(σ*np.sqrt(2*np.pi))*np.exp(-1/2*((t-μ)/σ)**2)"
   ]
  },
  {
   "cell_type": "markdown",
   "id": "f29a6b1e",
   "metadata": {},
   "source": [
    "## Calculate the expected surface return function for a specified density and grain size\n",
    "\n",
    "This notebook demonstrates the python code needed to recreate the results of the Matlab code for reducing MC files to SRF files.  The only missing step is writing the hdf5 output."
   ]
  },
  {
   "cell_type": "code",
   "execution_count": 6,
   "id": "96f17898",
   "metadata": {},
   "outputs": [],
   "source": [
    "# load the old SRF information\n",
    "with h5py.File('../../ATM_waveform/data/SRF_green_full.h5','r') as h5f:\n",
    "    SRF_0={field:np.array(h5f[field]) for field in ['p','r_eff','t']}"
   ]
  },
  {
   "cell_type": "code",
   "execution_count": 12,
   "id": "f50934cd",
   "metadata": {},
   "outputs": [],
   "source": [
    "# read the MC results.  The second argument is the number of photons in each file\n",
    "D_MC=sd.read_MC_results('..//mc_code/1_layer', 1.e7, max_files=2)\n"
   ]
  },
  {
   "cell_type": "code",
   "execution_count": 10,
   "id": "3ad1c667",
   "metadata": {},
   "outputs": [
    {
     "name": "stdout",
     "output_type": "stream",
     "text": [
      "mc_out_1.dat  mc_out_3.dat  mc_out_5.dat\t  mc_out_output_format.txt\r\n",
      "mc_out_2.dat  mc_out_4.dat  mc_out_N_photons.txt\r\n"
     ]
    }
   ],
   "source": [
    "! ls ../mc_code/1_layer/\n"
   ]
  },
  {
   "cell_type": "code",
   "execution_count": 13,
   "id": "ac549731",
   "metadata": {},
   "outputs": [],
   "source": [
    "LUT={}#None\n",
    "SRF={}\n",
    "sigma_wf=0.1*1.e-9  # small sigma, but big enough that the Gaussian is well defined for all bins\n",
    "t=SRF_0['t']\n",
    "λ=532e-9\n",
    "ρ_s=400\n",
    "t_wf=SRF_0['t']\n",
    "t_win=2*t_wf[-1]\n",
    "r_vals=SRF_0['r_eff']\n",
    "v=sd.v_eff(λ, ρ_s)\n",
    "\n",
    "for kr, r in enumerate(r_vals):\n",
    "    SRF[r]={}\n",
    "    # calculate the optical properties\n",
    "    mu_e, mu_s, mu_a, g = sd.optical_properties_pure_snow(r, λ, ρ_s, LUT=LUT)\n",
    "    \n",
    "    # choose a time vector\n",
    "    L_s=1/mu_s;\n",
    "    #t_s=L_s/1.5e8;\n",
    "    t_s=L_s/v\n",
    "    t1=np.logspace(np.log10(0.025*t_s), np.log10(t_win), 3000)\n",
    "    \n",
    "    t1=np.concatenate((t1, t1[-1]+np.arange(0.1, 40.1, 0.1)*1e-9))\n",
    "\n",
    "    # calculate the energy in the return, \n",
    "    R, R_tail = sd.R_from_MC(t1, mu_s, mu_a, g, v, D_MC)\n",
    "\n",
    "    # Algebraic convolution between the IRF and the SRF\n",
    "    delta_t=np.concatenate((t1[1:]-t1[0:-1], [t1[-1]-t1[-2]]))\n",
    "    G=np.zeros((len(t_wf), len(t1)));\n",
    "    for k, ti in enumerate(t_wf):\n",
    "        these=np.abs(t1-ti) < 12*sigma_wf;\n",
    "        if np.any(these):\n",
    "            # the kth row of G multiplies the attenuated normalized photon counts\n",
    "            # by a Gaussian centered on t_wf(k) evaluated at t1, times the delta_t values associated with t1 (dt)\n",
    "            G[k,these]=gaussian(t1[these], ti, sigma_wf)*delta_t[these];\n",
    "       \n",
    "    P_wf=G.dot(R)\n",
    "\n",
    "    # save the output\n",
    "    SRF[r]['t']=t_wf\n",
    "    SRF[r]['R']=R\n",
    "    SRF[r]['R_tail']=R_tail\n",
    "    SRF[r]['P']=P_wf\n"
   ]
  },
  {
   "cell_type": "code",
   "execution_count": 14,
   "id": "5caf7acc",
   "metadata": {},
   "outputs": [
    {
     "data": {
      "text/plain": [
       "<matplotlib.legend.Legend at 0x7f8a93e39cd0>"
      ]
     },
     "execution_count": 14,
     "metadata": {},
     "output_type": "execute_result"
    },
    {
     "data": {
      "image/png": "[encoded data removed]",
      "text/plain": [
       "<Figure size 432x288 with 1 Axes>"
      ]
     },
     "metadata": {
      "needs_background": "light"
     },
     "output_type": "display_data"
    }
   ],
   "source": [
    "r_vals=SRF_0['r_eff']\n",
    "plt.figure(); \n",
    "ii=-8\n",
    "\n",
    "plt.semilogy(SRF_0['t'], SRF_0['p'][ii,:],marker='.', label='old')\n",
    "plt.semilogy(SRF[r_vals[ii]]['t'], SRF[r_vals[ii]]['P'], label='new')\n",
    "yl=[np.min(SRF_0['p'][ii, SRF_0['t']>1.e-9]), np.max(SRF[r_vals[ii]]['P'])]\n",
    "\n",
    "plt.gca().set_xlim([-0.5e-9, np.max(SRF_0['t'])])\n",
    "plt.gca().set_ylim(yl)\n",
    "plt.legend()"
   ]
  },
  {
   "cell_type": "code",
   "execution_count": null,
   "id": "4b35a721",
   "metadata": {},
   "outputs": [],
   "source": [
    "len(r_vals)"
   ]
  },
  {
   "cell_type": "code",
   "execution_count": null,
   "id": "621a2ff8",
   "metadata": {},
   "outputs": [],
   "source": [
    "SRF_new={}\n",
    "SRF_new['r_eff'] = np.array(list(SRF.keys()))\n",
    "SRF_new['t']=t_wf\n",
    "SRF_new['p']=np.c_[[SRF[r]['P'] for r in SRF_new['r_eff']]]"
   ]
  },
  {
   "cell_type": "code",
   "execution_count": null,
   "id": "69e9a756",
   "metadata": {},
   "outputs": [],
   "source": [
    "try:\n",
    "    with h5py.File(out_file,'w') as h5f:\n",
    "        for key in ['p','r_eff','t']:\n",
    "            h5f.create_dataset(key, data=SRF_new[key])\n",
    "except NameError:\n",
    "    print(\"out_file not defined, skipping\")"
   ]
  },
  {
   "cell_type": "code",
   "execution_count": null,
   "id": "42e7593f",
   "metadata": {},
   "outputs": [],
   "source": [
    "{key: SRF_new[key].shape for key in SRF_new.keys()}"
   ]
  },
  {
   "cell_type": "code",
   "execution_count": null,
   "id": "cb9012d2",
   "metadata": {},
   "outputs": [],
   "source": [
    "# layer thicknesses:  from 5 cm to 2 m\n",
    "z_layer=np.logspace(np.log10(0.05), np.log10(2), 20)\n",
    "# scattering lengths: from 5 mm to 0.50 m\n",
    "L_scat=np.logspace(np.log10(0.005), np.log10(0.5), 31)\n",
    "L_scat"
   ]
  },
  {
   "cell_type": "code",
   "execution_count": null,
   "id": "f3455b4b",
   "metadata": {},
   "outputs": [],
   "source": [
    "z_layer"
   ]
  },
  {
   "cell_type": "code",
   "execution_count": null,
   "id": "64c86484",
   "metadata": {},
   "outputs": [],
   "source": [
    "MC_dir='/Users/ben/git_repos/scattering_optics/mc_code/1_layer'\n",
    "D_MC=sd.read_MC_results(MC_dir,1.e7, τ=np.Inf)"
   ]
  },
  {
   "cell_type": "code",
   "execution_count": 17,
   "id": "e5b00165",
   "metadata": {},
   "outputs": [
    {
     "data": {
      "text/plain": [
       "0.7652396777068208"
      ]
     },
     "execution_count": 17,
     "metadata": {},
     "output_type": "execute_result"
    }
   ],
   "source": [
    "Ke, Ks, Ka, g = sd.optical_properties_pure_snow(1.e-1, 917e-9, 400)\n",
    "Ks*(1-g)"
   ]
  },
  {
   "cell_type": "code",
   "execution_count": 21,
   "id": "f013d6c4",
   "metadata": {},
   "outputs": [
    {
     "data": {
      "text/plain": [
       "0.022284582607163372"
      ]
     },
     "execution_count": 21,
     "metadata": {},
     "output_type": "execute_result"
    }
   ],
   "source": [
    "Ke, Ks, Ka, g = sd.optical_properties_pure_snow(1.e-1, 532e-9, 917)\n",
    "Ka"
   ]
  },
  {
   "cell_type": "code",
   "execution_count": 22,
   "id": "3a4f8c27",
   "metadata": {},
   "outputs": [],
   "source": [
    "# bounding values: for r=0.1 (golf balls?), \\mu_s*(1-g) is around 1\n",
    "# for r=1.e-5, \\mu_s(1-g) is around 10000\n",
    "\n",
    "μ_s=np.logspace(-np.log10(2), 3, 70)\n",
    "μ_a=np.zeros_like(μ_s)\n",
    "g=np.zeros_like(μ_s)\n",
    "v=sd.v_eff(532e-9, 917)\n"
   ]
  },
  {
   "cell_type": "code",
   "execution_count": 40,
   "id": "c9607200-83c9-4d30-a630-c24a8daf99cc",
   "metadata": {},
   "outputs": [],
   "source": [
    "SRF_dir='SRF_of_z_0.5ns'\n",
    "dt=0.5e-9\n",
    "\n",
    "#! [ -d {SRF_dir} ] && rm -rf {SRF_dir}\n",
    "! [ -d {SRF_dir} ] || mkdir {SRF_dir}"
   ]
  },
  {
   "cell_type": "code",
   "execution_count": 41,
   "id": "b9b46bc2",
   "metadata": {},
   "outputs": [],
   "source": [
    "Ke, Ks, Ka, g = sd.optical_properties_pure_snow(1.e-1, 532e-9, 917)\n",
    "\n",
    "# bounding values: for r=0.1 (golf balls?), \\mu_s*(1-g) is around 1\n",
    "# for r=1.e-5, \\mu_s(1-g) is around 10000\n",
    "\n",
    "μ_s=np.logspace(-np.log10(2), 3, 70)\n",
    "μ_a=np.zeros_like(μ_s)+Ka\n",
    "g=np.zeros_like(μ_s)\n",
    "v=sd.v_eff(532e-9, 917)\n",
    "\n",
    "t_wf=np.arange(-4.e-8, 4.e-8+dt, dt)\n",
    "\n",
    "SRF_inf=sd.make_srf_catalog(D_MC=D_MC,\n",
    "                        μ_s=μ_s, μ_a=μ_a, g=g, t_wf=t_wf, v=sd.v_eff(532e-9, 917))\n",
    "\n",
    "SRF_new={}\n",
    "SRF_new['K'] = np.array(list(SRF_inf.keys()))\n",
    "SRF_new['t']=t_wf\n",
    "SRF_new['p']=np.c_[[SRF_inf[K]['P'] for K in SRF_inf.keys()]]\n",
    "\n",
    "out_file=f'{SRF_dir}/SRF_green_full.h5'\n",
    "with h5py.File(f'{SRF_dir}/SRF_green_full.h5','w') as h5f:\n",
    "    for key in ['p','K','t']:\n",
    "        h5f.create_dataset(key, data=SRF_new[key])\n"
   ]
  },
  {
   "cell_type": "code",
   "execution_count": 37,
   "id": "c6c3b14c",
   "metadata": {},
   "outputs": [
    {
     "name": "stdout",
     "output_type": "stream",
     "text": [
      "mc_out_1.dat  mc_out_3.dat  mc_out_5.dat\t  mc_out_output_format.txt\r\n",
      "mc_out_2.dat  mc_out_4.dat  mc_out_N_photons.txt\r\n"
     ]
    }
   ],
   "source": [
    "! ls {MC_dir}"
   ]
  },
  {
   "cell_type": "code",
   "execution_count": 38,
   "id": "7dc1cf21",
   "metadata": {},
   "outputs": [
    {
     "name": "stdout",
     "output_type": "stream",
     "text": [
      "[0.1, 0.05]\n",
      "[0.1, 0.055822723188187054]\n",
      "[0.1, 0.06232352848289912]\n",
      "[0.1, 0.06958138157223936]\n",
      "[0.1, 0.07768444405117475]\n",
      "[0.1, 0.08673114432593865]\n",
      "[0.1, 0.09683137323003144]\n",
      "[0.1, 0.1081078188750414]\n",
      "[0.1, 0.12069745695080199]\n",
      "[0.1, 0.13475321457765485]\n",
      "[0.1, 0.15044582792173597]\n",
      "[0.1, 0.16796591613785375]\n",
      "[0.1, 0.18752629683227295]\n",
      "[0.1, 0.20936457117147547]\n",
      "[0.1, 0.23374601003837517]\n",
      "[0.1, 0.2609667762943082]\n",
      "[0.1, 0.291357522287814]\n",
      "[0.1, 0.3252874063093736]\n",
      "[0.1, 0.36316857678022985]\n",
      "[0.1, 0.40546117864501235]\n",
      "[0.1, 0.45267894278113174]\n",
      "[0.1, 0.5053954263198454]\n",
      "[0.1, 0.5642509796805703]\n",
      "[0.1, 0.6299605249474367]\n",
      "[0.1, 0.7033222400725149]\n",
      "[0.1, 0.7852272543932728]\n",
      "[0.1, 0.8766704732363162]\n",
      "[0.1, 0.9787626630945564]\n",
      "[0.1, 1.0927439441772036]\n",
      "[0.1, 1.2199988542274354]\n",
      "[0.1, 1.36207316658887]\n",
      "[0.1, 1.5206926668109568]\n",
      "[0.1, 1.6977841158738802]\n",
      "[0.1, 1.8954986546745702]\n",
      "[0.1, 2.1162379340695887]\n",
      "[0.1, 2.36268328787815]\n",
      "[0.1, 2.6378283032115526]\n",
      "[0.1, 2.9450151837628717]\n",
      "[0.1, 3.287975347764052]\n",
      "[0.1, 3.670874753756315]\n",
      "[0.1, 4.098364504748862]\n",
      "[0.1, 4.575637345457738]\n",
      "[0.1, 5.108490738900365]\n",
      "[0.1, 5.703397288541044]\n",
      "[0.1, 6.367583361409667]\n",
      "[0.1, 7.10911686723355]\n",
      "[0.1, 7.937005259841]\n",
      "[0.1, 8.861304951265776]\n",
      "[0.1, 9.893243467612407]\n",
      "[0.1, 11.045355830517344]\n",
      "[0.1, 12.331636820839952]\n",
      "[0.1, 13.767710974140073]\n",
      "[0.1, 15.37102237288773]\n",
      "[0.1, 17.161046540822838]\n",
      "[0.1, 19.159527013358964]\n",
      "[0.1, 21.390739457666573]\n",
      "[0.1, 23.881786550719035]\n",
      "[0.1, 26.662927197203143]\n",
      "[0.1, 29.767944086325105]\n",
      "[0.1, 33.23455405224712]\n",
      "[0.1, 37.104866222828626]\n",
      "[0.1, 41.425893521833444]\n",
      "[0.1, 46.25012373785239]\n",
      "[0.1, 51.636157096750665]\n",
      "[0.1, 57.649418082273066]\n",
      "[0.1, 64.36295015133588]\n",
      "[0.1, 71.85830299746212]\n",
      "[0.1, 80.22652314000399]\n",
      "[0.1, 89.56925987190243]\n",
      "[0.1, 100.0]\n",
      "[0.1778279410038923, 0.08891397050194615]\n",
      "[0.1778279410038923, 0.09926839925785537]\n",
      "[0.1778279410038923, 0.11082864746211385]\n",
      "[0.1778279410038923, 0.123735138171975]\n",
      "[0.1778279410038923, 0.13814464733652476]\n",
      "[0.1778279410038923, 0.15423220816393082]\n",
      "[0.1778279410038923, 0.17219323726075905]\n",
      "[0.1778279410038923, 0.19224590836970334]\n",
      "[0.1778279410038923, 0.21463380253967046]\n",
      "[0.1778279410038923, 0.23962886692000043]\n",
      "[0.1778279410038923, 0.26753471811948193]\n",
      "[0.1778279410038923, 0.29869033025626973]\n",
      "[0.1778279410038923, 0.3334741524976783]\n",
      "[0.1778279410038923, 0.3723087061058635]\n",
      "[0.1778279410038923, 0.4156657168299939]\n",
      "[0.1778279410038923, 0.464071844988402]\n",
      "[0.1778279410038923, 0.5181150828443761]\n",
      "[0.1778279410038923, 0.5784518969849242]\n",
      "[0.1778279410038923, 0.6458152024614223]\n",
      "[0.1778279410038923, 0.7210232655545389]\n",
      "[0.1778279410038923, 0.8049896433058742]\n",
      "[0.1778279410038923, 0.8987342805524245]\n",
      "[0.1778279410038923, 1.0033958992602487]\n",
      "[0.1778279410038923, 1.1202458306513379]\n",
      "[0.1778279410038923, 1.2507034581434053]\n",
      "[0.1778279410038923, 1.3963534586889523]\n",
      "[0.1778279410038923, 1.5589650519452196]\n",
      "[0.1778279410038923, 1.7405134910959128]\n",
      "[0.1778279410038923, 1.9432040563750432]\n",
      "[0.1778279410038923, 2.1694988427437254]\n",
      "[0.1778279410038923, 2.422146667111503]\n",
      "[0.1778279410038923, 2.7042164583871044]\n",
      "[0.1778279410038923, 3.0191345359496577]\n",
      "[0.1778279410038923, 3.3707262293642666]\n",
      "[0.1778279410038923, 3.763262344899257]\n",
      "[0.1778279410038923, 4.2015110432767795]\n",
      "[0.1778279410038923, 4.690795758819013]\n",
      "[0.1778279410038923, 5.237059863537509]\n",
      "[0.1778279410038923, 5.8469388616443805]\n",
      "[0.1778279410038923, 6.527840991436556]\n",
      "[0.1778279410038923, 7.288037213629269]\n",
      "[0.1778279410038923, 8.13676167923265]\n",
      "[0.1778279410038923, 9.084323897361042]\n",
      "[0.1778279410038923, 10.14223396548436]\n",
      "[0.1778279410038923, 11.323342383301243]\n",
      "[0.1778279410038923, 12.641996148561834]\n",
      "[0.1778279410038923, 14.114213030945882]\n",
      "[0.1778279410038923, 15.75787614091189]\n",
      "[0.1778279410038923, 17.592951156957216]\n",
      "[0.1778279410038923, 19.64172884996236]\n",
      "[0.1778279410038923, 21.92909585057753]\n",
      "[0.1778279410038923, 24.482836948680212]\n",
      "[0.1778279410038923, 27.333972596953874]\n",
      "[0.1778279410038923, 30.517135718264935]\n",
      "[0.1778279410038923, 34.070992393940784]\n",
      "[0.1778279410038923, 38.03871154307562]\n",
      "[0.1778279410038923, 42.46848929808813]\n",
      "[0.1778279410038923, 47.414134446153156]\n",
      "[0.1778279410038923, 52.93572204790185]\n",
      "[0.1778279410038923, 59.100323172936704]\n",
      "[0.1778279410038923, 65.98281961630485]\n",
      "[0.1778279410038923, 73.66681349234122]\n",
      "[0.1778279410038923, 82.24564275477533]\n",
      "[0.1778279410038923, 91.82351497868692]\n",
      "[0.1778279410038923, 102.51677317643176]\n",
      "[0.1778279410038923, 114.45530902348217]\n",
      "[0.1778279410038923, 127.78414066072509]\n",
      "[0.1778279410038923, 142.6651742388803]\n",
      "[0.1778279410038923, 159.27917060262962]\n",
      "[0.1778279410038923, 177.8279410038923]\n",
      "[0.31622776601683794, 0.15811388300841897]\n",
      "[0.31622776601683794, 0.17652695046776729]\n",
      "[0.31622776601683794, 0.19708430182433956]\n",
      "[0.31622776601683794, 0.2200356485095443]\n",
      "[0.31622776601683794, 0.24565978196563026]\n",
      "[0.31622776601683794, 0.27426796014275523]\n",
      "[0.31622776601683794, 0.30620768836875484]\n",
      "[0.31622776601683794, 0.34186694051807287]\n",
      "[0.31622776601683794, 0.3816788717546558]\n",
      "[0.31622776601683794, 0.4261270800947939]\n",
      "[0.31622776601683794, 0.47575148070244183]\n",
      "[0.31622776601683794, 0.5311548642724504]\n",
      "[0.31622776601683794, 0.5930102191668011]\n",
      "[0.31622776601683794, 0.6620689062462896]\n",
      "[0.31622776601683794, 0.7391697856978475]\n",
      "[0.31622776601683794, 0.8252494067216498]\n",
      "[0.31622776601683794, 0.9213533838527649]\n",
      "[0.31622776601683794, 1.0286490981062466]\n",
      "[0.31622776601683794, 1.1484398772272657]\n",
      "[0.31622776601683794, 1.2821808272946629]\n",
      "[0.31622776601683794, 1.431496507985413]\n",
      "[0.31622776601683794, 1.598200666202521]\n",
      "[0.31622776601683794, 1.7843182677719895]\n",
      "[0.31622776601683794, 1.9921100948292239]\n",
      "[0.31622776601683794, 2.2241002076808956]\n",
      "[0.31622776601683794, 2.4831066047231993]\n",
      "[0.31622776601683794, 2.7722754528444438]\n",
      "[0.31622776601683794, 3.0951193041108254]\n",
      "[0.31622776601683794, 3.4555597629558537]\n",
      "[0.31622776601683794, 3.857975122154438]\n",
      "[0.31622776601683794, 4.307253546218787]\n",
      "[0.31622776601683794, 4.808852448238165]\n",
      "[0.31622776601683794, 5.368864781416694]\n",
      "[0.31622776601683794, 5.994093050556611]\n",
      "[0.31622776601683794, 6.6921319425091434]\n",
      "[0.31622776601683794, 7.47146057931025]\n",
      "[0.31622776601683794, 8.341545514605755]\n",
      "[0.31622776601683794, 9.312955724470005]\n",
      "[0.31622776601683794, 10.39749098941862]\n",
      "[0.31622776601683794, 11.608325227079694]\n",
      "[0.31622776601683794, 12.960166516594372]\n",
      "[0.31622776601683794, 14.469435758573152]\n",
      "[0.31622776601683794, 16.15446614080168]\n",
      "[0.31622776601683794, 18.035725832618255]\n",
      "[0.31622776601683794, 20.136066613045664]\n",
      "[0.31622776601683794, 22.48100145277887]\n",
      "[0.31622776601683794, 25.099014421834116]\n",
      "[0.31622776601683794, 28.02190668732721]\n",
      "[0.31622776601683794, 31.285182804237465]\n",
      "[0.31622776601683794, 34.92848199145555]\n",
      "[0.31622776601683794, 38.99605963185199]\n",
      "[0.31622776601683794, 43.53732484517819]\n",
      "[0.31622776601683794, 48.60744066373122]\n",
      "[0.31622776601683794, 54.2679941011539]\n",
      "[0.31622776601683794, 60.58774425373765]\n",
      "[0.31622776601683794, 67.64345752146127]\n",
      "[0.31622776601683794, 75.52084009424846]\n",
      "[0.31622776601683794, 84.3155790304114]\n",
      "[0.31622776601683794, 94.1345045733273]\n",
      "[0.31622776601683794, 105.09688782507955]\n",
      "[0.31622776601683794, 117.33588953998725]\n",
      "[0.31622776601683794, 131.0001776366079]\n",
      "[0.31622776601683794, 146.2557330762339]\n",
      "[0.31622776601683794, 163.28786604399954]\n",
      "[0.31622776601683794, 182.30346692327913]\n",
      "[0.31622776601683794, 203.53351940610048]\n",
      "[0.31622776601683794, 227.23590626648493]\n",
      "[0.31622776601683794, 253.69854187861614]\n",
      "[0.31622776601683794, 283.2428695307331]\n",
      "[0.31622776601683794, 316.22776601683796]\n",
      "[0.5623413251903491, 0.28117066259517454]\n",
      "[0.5623413251903491, 0.31391424133379137]\n",
      "[0.5623413251903491, 0.35047095597611955]\n",
      "[0.5623413251903491, 0.3912848632190842]\n",
      "[0.5623413251903491, 0.43685173214413137]\n",
      "[0.5623413251903491, 0.48772506635523755]\n",
      "[0.5623413251903491, 0.5445228274217717]\n",
      "[0.5623413251903491, 0.6079349412962901]\n",
      "[0.5623413251903491, 0.678731678888191]\n",
      "[0.5623413251903491, 0.7577730125925788]\n",
      "[0.5623413251903491, 0.8460190624286822]\n",
      "[0.5623413251903491, 0.9445417586777172]\n",
      "[0.5623413251903491, 1.0545378626869912]\n",
      "[0.5623413251903491, 1.1773435040047666]\n",
      "[0.5623413251903491, 1.3144504104293653]\n",
      "[0.5623413251903491, 1.4675240281199464]\n"
     ]
    },
    {
     "name": "stdout",
     "output_type": "stream",
     "text": [
      "[0.5623413251903491, 1.6384237518750597]\n",
      "[0.5623413251903491, 1.8292255113174463]\n",
      "[0.5623413251903491, 2.042246987340875]\n",
      "[0.5623413251903491, 2.2800757651247707]\n",
      "[0.5623413251903491, 2.545600765693078]\n",
      "[0.5623413251903491, 2.8420473378184323]\n",
      "[0.5623413251903491, 3.1730164365352462]\n",
      "[0.5623413251903491, 3.5425283641654945]\n",
      "[0.5623413251903491, 3.955071605182228]\n",
      "[0.5623413251903491, 4.415657348110924]\n",
      "[0.5623413251903491, 4.929880356749605]\n",
      "[0.5623413251903491, 5.50398693011428]\n",
      "[0.5623413251903491, 6.144950776623375]\n",
      "[0.5623413251903491, 6.8605577241696345]\n",
      "[0.5623413251903491, 7.659500295058002]\n",
      "[0.5623413251903491, 8.551483294617194]\n",
      "[0.5623413251903491, 9.54734169607643]\n",
      "[0.5623413251903491, 10.659172253662216]\n",
      "[0.5623413251903491, 11.90048044262779]\n",
      "[0.5623413251903491, 13.286344511104899]\n",
      "[0.5623413251903491, 14.833598636525943]\n",
      "[0.5623413251903491, 16.561037411429126]\n",
      "[0.5623413251903491, 18.489644142548357]\n",
      "[0.5623413251903491, 20.642845736351223]\n",
      "[0.5623413251903491, 23.046797267135638]\n",
      "[0.5623413251903491, 25.730699684351556]\n",
      "[0.5623413251903491, 28.727154518358567]\n",
      "[0.5623413251903491, 32.07255989325215]\n",
      "[0.5623413251903491, 35.8075526571513]\n",
      "[0.5623413251903491, 39.97750200053177]\n",
      "[0.5623413251903491, 44.633060558617586]\n",
      "[0.5623413251903491, 49.83077969210598]\n",
      "[0.5623413251903491, 55.63379642007925]\n",
      "[0.5623413251903491, 62.112600349320715]\n",
      "[0.5623413251903491, 69.3458899159724]\n",
      "[0.5623413251903491, 77.4215283403564]\n",
      "[0.5623413251903491, 86.43761090700188]\n",
      "[0.5623413251903491, 96.5036565341957]\n",
      "[0.5623413251903491, 107.74193810712572]\n",
      "[0.5623413251903491, 120.28896773425708]\n",
      "[0.5623413251903491, 134.29715496844398]\n",
      "[0.5623413251903491, 149.93665813529014]\n",
      "[0.5623413251903491, 167.39745125696274]\n",
      "[0.5623413251903491, 186.8916316785093]\n",
      "[0.5623413251903491, 208.65599642756072]\n",
      "[0.5623413251903491, 232.95491860262115]\n",
      "[0.5623413251903491, 260.08355872961533]\n",
      "[0.5623413251903491, 290.3714500952382]\n",
      "[0.5623413251903491, 324.18650160837905]\n",
      "[0.5623413251903491, 361.939466812626]\n",
      "[0.5623413251903491, 404.0889333352248]\n",
      "[0.5623413251903491, 451.14689337964046]\n",
      "[0.5623413251903491, 503.6849629268437]\n",
      "[0.5623413251903491, 562.341325190349]\n",
      "[1.0, 0.5]\n",
      "[1.0, 0.5582272318818705]\n",
      "[1.0, 0.6232352848289912]\n",
      "[1.0, 0.6958138157223936]\n",
      "[1.0, 0.7768444405117475]\n",
      "[1.0, 0.8673114432593864]\n",
      "[1.0, 0.9683137323003144]\n",
      "[1.0, 1.081078188750414]\n",
      "[1.0, 1.2069745695080198]\n",
      "[1.0, 1.3475321457765483]\n",
      "[1.0, 1.5044582792173595]\n",
      "[1.0, 1.6796591613785374]\n",
      "[1.0, 1.8752629683227295]\n",
      "[1.0, 2.0936457117147547]\n",
      "[1.0, 2.3374601003837516]\n",
      "[1.0, 2.609667762943082]\n",
      "[1.0, 2.9135752228781397]\n",
      "[1.0, 3.2528740630937354]\n",
      "[1.0, 3.6316857678022982]\n",
      "[1.0, 4.054611786450123]\n",
      "[1.0, 4.526789427811317]\n",
      "[1.0, 5.053954263198453]\n",
      "[1.0, 5.642509796805703]\n",
      "[1.0, 6.299605249474366]\n",
      "[1.0, 7.0332224007251485]\n",
      "[1.0, 7.8522725439327274]\n",
      "[1.0, 8.766704732363161]\n",
      "[1.0, 9.787626630945564]\n",
      "[1.0, 10.927439441772036]\n",
      "[1.0, 12.199988542274353]\n",
      "[1.0, 13.620731665888698]\n",
      "[1.0, 15.206926668109567]\n",
      "[1.0, 16.9778411587388]\n",
      "[1.0, 18.9549865467457]\n",
      "[1.0, 21.162379340695885]\n",
      "[1.0, 23.6268328787815]\n",
      "[1.0, 26.378283032115526]\n",
      "[1.0, 29.450151837628717]\n",
      "[1.0, 32.87975347764052]\n",
      "[1.0, 36.70874753756315]\n",
      "[1.0, 40.98364504748862]\n",
      "[1.0, 45.756373454577385]\n",
      "[1.0, 51.08490738900365]\n",
      "[1.0, 57.03397288541044]\n",
      "[1.0, 63.67583361409667]\n",
      "[1.0, 71.0911686723355]\n",
      "[1.0, 79.37005259841]\n",
      "[1.0, 88.61304951265775]\n",
      "[1.0, 98.93243467612406]\n",
      "[1.0, 110.45355830517343]\n",
      "[1.0, 123.31636820839951]\n",
      "[1.0, 137.67710974140073]\n",
      "[1.0, 153.71022372887728]\n",
      "[1.0, 171.61046540822838]\n",
      "[1.0, 191.59527013358965]\n",
      "[1.0, 213.90739457666572]\n",
      "[1.0, 238.81786550719033]\n",
      "[1.0, 266.6292719720314]\n",
      "[1.0, 297.67944086325105]\n",
      "[1.0, 332.3455405224712]\n",
      "[1.0, 371.0486622282863]\n",
      "[1.0, 414.25893521833444]\n",
      "[1.0, 462.5012373785239]\n",
      "[1.0, 516.3615709675066]\n",
      "[1.0, 576.4941808227306]\n",
      "[1.0, 643.6295015133588]\n",
      "[1.0, 718.5830299746211]\n",
      "[1.0, 802.2652314000399]\n",
      "[1.0, 895.6925987190243]\n",
      "[1.0, 1000.0]\n"
     ]
    }
   ],
   "source": [
    "SAVE_H5=True\n",
    "DOPLOT=False\n",
    "\n",
    "MC_dir='../mc_code/1_layer'\n",
    "this_g=0\n",
    "t_wf=np.arange(-4.e-8, 4.e-8+dt, dt)\n",
    "v=sd.v_eff(532e-9, 917)\n",
    "! [ -d SRF_of_z ] || mkdir SRF_of_z\n",
    "\n",
    "srf_base=f'{SRF_dir}/SRF_green_z_%3.3f.h5'\n",
    "\n",
    "# for testing:\n",
    "#μ_s = np.logspace(0, 4, 5)\n",
    "#z_layer=[0.1, 0.2, 0.5]\n",
    "\n",
    "#  for production work: \n",
    "μ_s=np.logspace(-np.log10(2), 3, 70)\n",
    "z_layer=np.logspace(-1, 0, 5)\n",
    "\n",
    "E0=np.zeros((len(μ_s), len(z_layer)))\n",
    "E1=E0.copy()\n",
    "\n",
    "for z_count, zi in enumerate(z_layer):\n",
    "    if DOPLOT:\n",
    "        plt.figure()\n",
    "        plt.gca().set_title(f'z_layer={zi}')\n",
    "    SRF_cat={'K':μ_s, 't':t_wf, 'p':np.zeros([len(μ_s), len(t_wf)]), 'E_tot':np.zeros(len(μ_s))}\n",
    "    for count, μi in enumerate(μ_s):\n",
    "        τ_layer = zi*μi*(1-this_g)\n",
    "        print([zi, τ_layer])\n",
    "        Di_MC=sd.read_MC_results(MC_dir,1.e7, τ=τ_layer, max_files=2)\n",
    "        dt = (Di_MC['lb']-Di_MC['la'])/μi/v\n",
    "        if τ_layer < 3:\n",
    "            τ_diverge=2*τ_layer\n",
    "        else:\n",
    "            τ_diverge = τ_layer + 1/3*τ_layer**2\n",
    "        SRF_cat['p'][count, :], SRF_cat['E_tot'][count]=sd.calc_srf(t_wf, μi, 0, 0, v, Di_MC, \n",
    "                                           τ_exp = τ_diverge,\n",
    "                                           skip_tail=False)\n",
    "        \n",
    "        t_mc=Di_MC['lc']/μi/v  # (m^-1)-1/(m/s) = s\n",
    "        if DOPLOT:\n",
    "            hh=plt.semilogy(t_mc*v, Di_MC['E']/dt, '.', label=μi)\n",
    "            plt.semilogy(t_wf*v, SRF_cat['p'][count,:], color=hh[0].get_color())\n",
    "        E0[count, z_count]=np.sum(SRF_cat['p'][count,:]*0.25e-9)\n",
    "        E1[count, z_count]=SRF_cat['E_tot'][count]\n",
    "    if SAVE_H5:\n",
    "        with h5py.File(srf_base % zi, 'w') as h5f:\n",
    "            for key, val in SRF_cat.items():\n",
    "                h5f.create_dataset(key, data=val)\n",
    "    if DOPLOT:\n",
    "        plt.gca().set_xlim([-0.1, t_wf[-1]*v*1.1])\n",
    "        plt.gca().set_ylim([1e-5, 1e12])\n",
    "        plt.legend()"
   ]
  },
  {
   "cell_type": "code",
   "execution_count": 30,
   "id": "6ebc34b9",
   "metadata": {},
   "outputs": [
    {
     "data": {
      "text/plain": [
       "<matplotlib.colorbar.Colorbar at 0x7f8a94019070>"
      ]
     },
     "execution_count": 30,
     "metadata": {},
     "output_type": "execute_result"
    },
    {
     "data": {
      "image/png": "[encoded data removed]",
      "text/plain": [
       "<Figure size 432x288 with 2 Axes>"
      ]
     },
     "metadata": {
      "needs_background": "light"
     },
     "output_type": "display_data"
    }
   ],
   "source": [
    "plt.figure(); \n",
    "plt.imshow(E1); plt.colorbar()"
   ]
  },
  {
   "cell_type": "code",
   "execution_count": null,
   "id": "26fdcad5",
   "metadata": {},
   "outputs": [],
   "source": [
    "μi=100\n",
    "zi=0.5\n",
    "this_g=0\n",
    "v=sd.v_eff(532e-9, 917)\n",
    "\n",
    "τ_layer = zi*μi*(1-this_g)\n",
    "print([zi, τ_layer])\n",
    "MC_dir='../MC_code/1_layer'\n",
    "Di_MC=sd.read_MC_results(MC_dir, 1.e7, τ=τ_layer)\n",
    "\n",
    "dt=2.5e-10\n",
    "t_wf=np.arange(-2.e-8, 2.e-8+dt, dt)\n",
    "\n",
    "\n",
    "if τ_layer < 3:\n",
    "    τ_diverge=2*τ_layer\n",
    "else:\n",
    "    τ_diverge = τ_layer + 1/3*τ_layer**2\n",
    "pp, ee=so.calc_srf(t_wf, μi, 0, 0, v, Di_MC, \n",
    "                                   τ_exp = τ_diverge,\n",
    "                                   skip_tail=False)\n"
   ]
  },
  {
   "cell_type": "markdown",
   "id": "b845f3b6-093c-49d0-8d2f-6bab5a9ac828",
   "metadata": {},
   "source": [
    "## More testing: Layers of consistent optical thickness \n",
    "\n",
    "...for different z.  This is much faster than rereading the MC results every time"
   ]
  },
  {
   "cell_type": "code",
   "execution_count": null,
   "id": "2b19ebe1",
   "metadata": {},
   "outputs": [],
   "source": [
    "τ_layer=np.array([0.1, 0.3, 1, 2, 10, 100, 1000])\n",
    "z_layer=np.arange(0.1, 1, 0.1)\n",
    "\n",
    "this_g=0\n",
    "v=sd.v_eff(532e-9, 917)\n",
    "MC_dir='../MC_code/1_layer'\n",
    "dt=0.25e-9\n",
    "t_wf=np.arange(-2.e-8, 2.e-8+dt, dt)\n",
    "\n",
    "R_catalog={}\n",
    "\n",
    "hf, hax=plt.subplots(len(τ_layer), 1, figsize=[6, 2*len(τ_layer)])\n",
    "\n",
    "for τi, ha in zip(τ_layer, hax):\n",
    "    Di_MC=sd.read_MC_results(MC_dir, 1.e7, τ=τi)\n",
    "    \n",
    "    if τi < 3:\n",
    "        τ_diverge=2*τi\n",
    "    else:\n",
    "        τ_diverge = τi + 1/3*τi**2\n",
    "    \n",
    "    for zi in z_layer:\n",
    "        μi = τi/zi\n",
    "        #print(f'\\t {[zi, μi]}')\n",
    "        L_s=1/μi;\n",
    "        t_s=L_s/v;\n",
    "        t_win = 2*t_wf[-1]\n",
    "    \n",
    "        t1=np.logspace(np.log10(0.025*t_s), np.log10(t_win), 3000)\n",
    "        t1=np.concatenate((t1, t1[-1]+np.arange(0.1, 40.1, 0.1)*1e-9))\n",
    "\n",
    "        # calculate the energy in the return,\n",
    "        R, R_tail = sd.R_from_MC( t1, μi, 0, this_g, v, Di_MC, τ_exp=τ_diverge )\n",
    "        Rbar=(R[1:]+R[0:-1])/2\n",
    "        dt=np.diff(t1)\n",
    "        E_tot=np.sum(Rbar*dt)+R_tail\n",
    "        ha.semilogy(t1, R, label=f'z={zi}')\n",
    "        R_catalog[(τi,zi)]={'t':t1, 'R':R, 'R_tail':R_tail,'E_tot':E_tot}\n",
    "plt.legend()\n",
    "    "
   ]
  },
  {
   "cell_type": "code",
   "execution_count": null,
   "id": "f2eaf34f",
   "metadata": {},
   "outputs": [],
   "source": [
    "RR=np.zeros((len(τ_layer), len(z_layer)))+np.NaN\n",
    "\n",
    "for row, τi in enumerate(τ_layer):\n",
    "    for col, zi in enumerate(z_layer):\n",
    "        RR[row, col]=R_catalog[(τi,zi)]['E_tot']\n",
    "plt.figure(); plt.semilogx(τ_layer, RR, marker='.')\n",
    "plt.gca().set_xlabel(\"τ\")\n",
    "plt.gca().set_ylabel(\"R\")"
   ]
  }
 ],
 "metadata": {
  "kernelspec": {
   "display_name": "Python 3 (ipykernel)",
   "language": "python",
   "name": "python3"
  },
  "language_info": {
   "codemirror_mode": {
    "name": "ipython",
    "version": 3
   },
   "file_extension": ".py",
   "mimetype": "text/x-python",
   "name": "python",
   "nbconvert_exporter": "python",
   "pygments_lexer": "ipython3",
   "version": "3.8.6"
  }
 },
 "nbformat": 4,
 "nbformat_minor": 5
}
